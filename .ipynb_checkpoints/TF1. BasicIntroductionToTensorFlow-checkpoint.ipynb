{
 "cells": [
  {
   "cell_type": "markdown",
   "metadata": {},
   "source": [
    "# TensorFlow Basics"
   ]
  },
  {
   "cell_type": "markdown",
   "metadata": {},
   "source": [
    "## Topics Covered :"
   ]
  },
  {
   "cell_type": "markdown",
   "metadata": {},
   "source": [
    "1. Constants in tensorflow\n",
    "2. Maths function in tensorflow\n",
    "3. Sessions in tensorflow\n",
    "4. Rank, shape and datatype of tensor\n",
    "5. Placeholders in tensorflow\n",
    "6. Variables in tensorflow\n",
    "7. Building TF model for digit prediction"
   ]
  },
  {
   "cell_type": "code",
   "execution_count": 12,
   "metadata": {},
   "outputs": [],
   "source": [
    "# importing tensorflow\n",
    "import tensorflow as tf"
   ]
  },
  {
   "cell_type": "code",
   "execution_count": 13,
   "metadata": {},
   "outputs": [],
   "source": [
    "# defining constants\n",
    "x = tf.constant(5)\n",
    "y = tf.constant(6)"
   ]
  },
  {
   "cell_type": "code",
   "execution_count": 14,
   "metadata": {},
   "outputs": [],
   "source": [
    "# multiplying both x and y\n",
    "result = tf.multiply(x, y)"
   ]
  },
  {
   "cell_type": "code",
   "execution_count": 15,
   "metadata": {},
   "outputs": [
    {
     "name": "stdout",
     "output_type": "stream",
     "text": [
      "30\n"
     ]
    }
   ],
   "source": [
    "# creating session of tf\n",
    "tf_sess = tf.Session()\n",
    "print(tf_sess.run(result))\n",
    "# printing the multiplication value"
   ]
  },
  {
   "cell_type": "code",
   "execution_count": 16,
   "metadata": {},
   "outputs": [],
   "source": [
    "# closing session\n",
    "tf_sess.close()"
   ]
  },
  {
   "cell_type": "code",
   "execution_count": 17,
   "metadata": {},
   "outputs": [
    {
     "name": "stdout",
     "output_type": "stream",
     "text": [
      "30\n"
     ]
    }
   ],
   "source": [
    "# other way to do this\n",
    "with tf.Session() as sess:\n",
    "    output = sess.run(result)\n",
    "    print(output)\n",
    "# printing the multiplication value\n",
    "# session will automatically close"
   ]
  },
  {
   "cell_type": "code",
   "execution_count": 18,
   "metadata": {},
   "outputs": [
    {
     "ename": "RuntimeError",
     "evalue": "Attempted to use a closed Session.",
     "output_type": "error",
     "traceback": [
      "\u001b[0;31m---------------------------------------------------------------------------\u001b[0m",
      "\u001b[0;31mRuntimeError\u001b[0m                              Traceback (most recent call last)",
      "\u001b[0;32m<ipython-input-18-b77299430a8e>\u001b[0m in \u001b[0;36m<module>\u001b[0;34m\u001b[0m\n\u001b[1;32m      1\u001b[0m \u001b[0;31m# accessing sess after closing it\u001b[0m\u001b[0;34m\u001b[0m\u001b[0;34m\u001b[0m\u001b[0;34m\u001b[0m\u001b[0m\n\u001b[0;32m----> 2\u001b[0;31m \u001b[0mprint\u001b[0m\u001b[0;34m(\u001b[0m\u001b[0msess\u001b[0m\u001b[0;34m.\u001b[0m\u001b[0mrun\u001b[0m\u001b[0;34m(\u001b[0m\u001b[0mresult\u001b[0m\u001b[0;34m)\u001b[0m\u001b[0;34m)\u001b[0m\u001b[0;34m\u001b[0m\u001b[0;34m\u001b[0m\u001b[0m\n\u001b[0m\u001b[1;32m      3\u001b[0m \u001b[0;31m# got runtime error as \"attempted to use a closed Session\"\u001b[0m\u001b[0;34m\u001b[0m\u001b[0;34m\u001b[0m\u001b[0;34m\u001b[0m\u001b[0m\n",
      "\u001b[0;32m~/installation/anaconda-install/anaconda/envs/TensorFlow/lib/python3.7/site-packages/tensorflow/python/client/session.py\u001b[0m in \u001b[0;36mrun\u001b[0;34m(self, fetches, feed_dict, options, run_metadata)\u001b[0m\n\u001b[1;32m    948\u001b[0m     \u001b[0;32mtry\u001b[0m\u001b[0;34m:\u001b[0m\u001b[0;34m\u001b[0m\u001b[0;34m\u001b[0m\u001b[0m\n\u001b[1;32m    949\u001b[0m       result = self._run(None, fetches, feed_dict, options_ptr,\n\u001b[0;32m--> 950\u001b[0;31m                          run_metadata_ptr)\n\u001b[0m\u001b[1;32m    951\u001b[0m       \u001b[0;32mif\u001b[0m \u001b[0mrun_metadata\u001b[0m\u001b[0;34m:\u001b[0m\u001b[0;34m\u001b[0m\u001b[0;34m\u001b[0m\u001b[0m\n\u001b[1;32m    952\u001b[0m         \u001b[0mproto_data\u001b[0m \u001b[0;34m=\u001b[0m \u001b[0mtf_session\u001b[0m\u001b[0;34m.\u001b[0m\u001b[0mTF_GetBuffer\u001b[0m\u001b[0;34m(\u001b[0m\u001b[0mrun_metadata_ptr\u001b[0m\u001b[0;34m)\u001b[0m\u001b[0;34m\u001b[0m\u001b[0;34m\u001b[0m\u001b[0m\n",
      "\u001b[0;32m~/installation/anaconda-install/anaconda/envs/TensorFlow/lib/python3.7/site-packages/tensorflow/python/client/session.py\u001b[0m in \u001b[0;36m_run\u001b[0;34m(self, handle, fetches, feed_dict, options, run_metadata)\u001b[0m\n\u001b[1;32m   1094\u001b[0m     \u001b[0;31m# Check session.\u001b[0m\u001b[0;34m\u001b[0m\u001b[0;34m\u001b[0m\u001b[0;34m\u001b[0m\u001b[0m\n\u001b[1;32m   1095\u001b[0m     \u001b[0;32mif\u001b[0m \u001b[0mself\u001b[0m\u001b[0;34m.\u001b[0m\u001b[0m_closed\u001b[0m\u001b[0;34m:\u001b[0m\u001b[0;34m\u001b[0m\u001b[0;34m\u001b[0m\u001b[0m\n\u001b[0;32m-> 1096\u001b[0;31m       \u001b[0;32mraise\u001b[0m \u001b[0mRuntimeError\u001b[0m\u001b[0;34m(\u001b[0m\u001b[0;34m'Attempted to use a closed Session.'\u001b[0m\u001b[0;34m)\u001b[0m\u001b[0;34m\u001b[0m\u001b[0;34m\u001b[0m\u001b[0m\n\u001b[0m\u001b[1;32m   1097\u001b[0m     \u001b[0;32mif\u001b[0m \u001b[0mself\u001b[0m\u001b[0;34m.\u001b[0m\u001b[0mgraph\u001b[0m\u001b[0;34m.\u001b[0m\u001b[0mversion\u001b[0m \u001b[0;34m==\u001b[0m \u001b[0;36m0\u001b[0m\u001b[0;34m:\u001b[0m\u001b[0;34m\u001b[0m\u001b[0;34m\u001b[0m\u001b[0m\n\u001b[1;32m   1098\u001b[0m       raise RuntimeError('The Session graph is empty.  Add operations to the '\n",
      "\u001b[0;31mRuntimeError\u001b[0m: Attempted to use a closed Session."
     ]
    }
   ],
   "source": [
    "# accessing sess after closing it\n",
    "print(sess.run(result))\n",
    "# got runtime error as \"attempted to use a closed Session\""
   ]
  },
  {
   "cell_type": "code",
   "execution_count": 19,
   "metadata": {},
   "outputs": [
    {
     "name": "stdout",
     "output_type": "stream",
     "text": [
      "30\n"
     ]
    }
   ],
   "source": [
    "# accessing output as python variable\n",
    "print(output)"
   ]
  },
  {
   "cell_type": "code",
   "execution_count": 20,
   "metadata": {},
   "outputs": [],
   "source": [
    "# creating more constants\n",
    "# two param used 1st for value and 2nd for name which we use in tensorboard visual\n",
    "# a, b, c, d are n-multidimensional array or tensors or edges in computational graph\n",
    "a = tf.constant(6, name = 'constant_a')\n",
    "b = tf.constant(3, name = 'constant_b')\n",
    "c = tf.constant(4, name = 'constant_c')\n",
    "d = tf.constant(2, name = 'constant_d')"
   ]
  },
  {
   "cell_type": "code",
   "execution_count": 21,
   "metadata": {},
   "outputs": [],
   "source": [
    "# performing multiply operation of a with b\n",
    "# mul is operation or node or operator which process on tensor\n",
    "mul = tf.multiply(a, b, name= 'mul_of_a_by_b')"
   ]
  },
  {
   "cell_type": "code",
   "execution_count": 22,
   "metadata": {},
   "outputs": [
    {
     "name": "stdout",
     "output_type": "stream",
     "text": [
      "Tensor(\"mul_of_a_by_b:0\", shape=(), dtype=int32)\n"
     ]
    }
   ],
   "source": [
    "# printing mul\n",
    "print(mul)\n",
    "\n",
    "# outputting name, shape and datatype(int32) of tensor"
   ]
  },
  {
   "cell_type": "code",
   "execution_count": 23,
   "metadata": {},
   "outputs": [],
   "source": [
    "# performing division operation of c by d\n",
    "div = tf.divide(c, d, name = 'div_of_c_by_d')"
   ]
  },
  {
   "cell_type": "code",
   "execution_count": 24,
   "metadata": {},
   "outputs": [
    {
     "name": "stdout",
     "output_type": "stream",
     "text": [
      "Tensor(\"div_of_c_by_d:0\", shape=(), dtype=float64)\n"
     ]
    }
   ],
   "source": [
    "# printing div\n",
    "print(div)\n",
    "\n",
    "# outputting name, shape and datatype(float64) of tensor"
   ]
  },
  {
   "cell_type": "code",
   "execution_count": 25,
   "metadata": {},
   "outputs": [],
   "source": [
    "# adding input from both the node\n",
    "# casting div to int32\n",
    "add = tf.add_n([mul, tf.cast(div, dtype='int32')], name = 'add_of_mul_and_div')"
   ]
  },
  {
   "cell_type": "code",
   "execution_count": 26,
   "metadata": {},
   "outputs": [
    {
     "name": "stdout",
     "output_type": "stream",
     "text": [
      "Tensor(\"add_of_mul_and_div:0\", shape=(), dtype=int32)\n"
     ]
    }
   ],
   "source": [
    "# printing add\n",
    "print(add)\n",
    "\n",
    "# outputting name, shape and datatype(int32) of tensor\n",
    "# _8 is number of times it is created or executed\n",
    "# all these operation has constructed computational graph\n",
    "# these graphs specifies operations(node) and data(edges)"
   ]
  },
  {
   "cell_type": "code",
   "execution_count": 27,
   "metadata": {},
   "outputs": [
    {
     "name": "stdout",
     "output_type": "stream",
     "text": [
      "<tensorflow.python.client.session.Session object at 0x7fac6f372978>\n"
     ]
    }
   ],
   "source": [
    "# creating tensorflow session object\n",
    "# sessions supervise the execution of tensorflow graphs\n",
    "sess = tf.Session()\n",
    "print(sess)"
   ]
  },
  {
   "cell_type": "code",
   "execution_count": 28,
   "metadata": {},
   "outputs": [
    {
     "name": "stdout",
     "output_type": "stream",
     "text": [
      "Multiplication is : 18\n"
     ]
    }
   ],
   "source": [
    "# running session for mul intermediate node\n",
    "print('Multiplication is :', sess.run(mul))"
   ]
  },
  {
   "cell_type": "code",
   "execution_count": 29,
   "metadata": {},
   "outputs": [
    {
     "name": "stdout",
     "output_type": "stream",
     "text": [
      "Division is : 2.0\n"
     ]
    }
   ],
   "source": [
    "# running session for div intermediate node\n",
    "print('Division is :', sess.run(div))"
   ]
  },
  {
   "cell_type": "code",
   "execution_count": 30,
   "metadata": {},
   "outputs": [
    {
     "name": "stdout",
     "output_type": "stream",
     "text": [
      "Addition is : 20\n"
     ]
    }
   ],
   "source": [
    "# running the session to execute the graph\n",
    "print('Addition is :', sess.run(add))\n",
    "\n",
    "# 6*3(node) + 4/2(node)=18(flow by edge to other node) + 2(flow by edge to other node)=20"
   ]
  },
  {
   "cell_type": "code",
   "execution_count": 72,
   "metadata": {},
   "outputs": [],
   "source": [
    "# to create graph and store it in log\n",
    "#writer = tf.summary.FileWriter('file_path', sess.graph())"
   ]
  },
  {
   "cell_type": "code",
   "execution_count": 31,
   "metadata": {},
   "outputs": [],
   "source": [
    "# closing tensorflow session\n",
    "sess.close()"
   ]
  },
  {
   "cell_type": "code",
   "execution_count": 74,
   "metadata": {},
   "outputs": [
    {
     "name": "stderr",
     "output_type": "stream",
     "text": [
      "UsageError: Line magic function `%tensorboard` not found.\n"
     ]
    }
   ],
   "source": [
    "import datetime, os\n",
    "\n",
    "logs_base_dir = \"./logs\"\n",
    "os.makedirs(logs_base_dir, exist_ok=True)\n",
    "%tensorboard --logdir {logs_base_dir}\n",
    "\n",
    "# visit this link, http://0.0.0.0:6006/#graphs&run=add_graph for graph visualization"
   ]
  },
  {
   "cell_type": "code",
   "execution_count": null,
   "metadata": {},
   "outputs": [],
   "source": [
    "# killing pid\n",
    "!kill 8800\n",
    "print('Session Killed')"
   ]
  },
  {
   "cell_type": "code",
   "execution_count": 32,
   "metadata": {},
   "outputs": [
    {
     "name": "stdout",
     "output_type": "stream",
     "text": [
      "Rank of zeroD : 0\n"
     ]
    }
   ],
   "source": [
    "# getting rank of tensor ( dimension)\n",
    "sess = tf.Session()\n",
    "zeroD = tf.constant(5)\n",
    "print('Rank of zeroD :', sess.run(tf.rank(zeroD)))"
   ]
  },
  {
   "cell_type": "code",
   "execution_count": 33,
   "metadata": {},
   "outputs": [
    {
     "name": "stdout",
     "output_type": "stream",
     "text": [
      "Rank of oneD : 1\n"
     ]
    }
   ],
   "source": [
    "# for 1D\n",
    "oneD = tf.constant(['How', 'are', 'you?'])\n",
    "print('Rank of oneD :', sess.run(tf.rank(oneD)))"
   ]
  },
  {
   "cell_type": "code",
   "execution_count": 34,
   "metadata": {},
   "outputs": [
    {
     "name": "stdout",
     "output_type": "stream",
     "text": [
      "Rank of oneD : 2\n"
     ]
    }
   ],
   "source": [
    "# for 2D\n",
    "twoD = tf.constant([[1, 2], [3, 4]])\n",
    "print('Rank of oneD :', sess.run(tf.rank(twoD)))"
   ]
  },
  {
   "cell_type": "code",
   "execution_count": 35,
   "metadata": {},
   "outputs": [
    {
     "name": "stdout",
     "output_type": "stream",
     "text": [
      "Rank of oneD : 3\n"
     ]
    }
   ],
   "source": [
    "# for 3D\n",
    "threeD = tf.constant([[[1, 2], [3, 4]], [[1, 2], [3, 4]]])\n",
    "print('Rank of oneD :', sess.run(tf.rank(threeD)))"
   ]
  },
  {
   "cell_type": "code",
   "execution_count": 36,
   "metadata": {},
   "outputs": [],
   "source": [
    "# performing math operations in tensor\n",
    "x = tf.constant([100, 200, 300], name = 'x')\n",
    "y = tf.constant([1, 2, 3], name = 'y')"
   ]
  },
  {
   "cell_type": "code",
   "execution_count": 37,
   "metadata": {},
   "outputs": [
    {
     "name": "stdout",
     "output_type": "stream",
     "text": [
      "x is : [100 200 300]\n",
      "y is : [1 2 3]\n"
     ]
    }
   ],
   "source": [
    "# printing x and y\n",
    "print('x is :', sess.run(x))\n",
    "print('y is :', sess.run(y))"
   ]
  },
  {
   "cell_type": "code",
   "execution_count": 38,
   "metadata": {},
   "outputs": [
    {
     "name": "stdout",
     "output_type": "stream",
     "text": [
      "Sum of x : 600\n"
     ]
    }
   ],
   "source": [
    "# sum of x\n",
    "print('Sum of x :', sess.run(tf.reduce_sum(x, name = 'sum_x')))"
   ]
  },
  {
   "cell_type": "code",
   "execution_count": 39,
   "metadata": {},
   "outputs": [
    {
     "name": "stdout",
     "output_type": "stream",
     "text": [
      "Product of y : 6\n"
     ]
    }
   ],
   "source": [
    "# product of x\n",
    "print('Product of y :', sess.run(tf.reduce_prod(y, name = 'sum_y')))"
   ]
  },
  {
   "cell_type": "code",
   "execution_count": 40,
   "metadata": {},
   "outputs": [
    {
     "name": "stdout",
     "output_type": "stream",
     "text": [
      "Rank is : 0\n"
     ]
    }
   ],
   "source": [
    "# importing numpy library\n",
    "import numpy as np\n",
    "\n",
    "# creating 0D array in numpy\n",
    "zeroD = np.array(30, dtype=np.int32)\n",
    "\n",
    "# numpy as tensorflow\n",
    "print('Rank is :', sess.run(tf.rank(zeroD)))"
   ]
  },
  {
   "cell_type": "code",
   "execution_count": 41,
   "metadata": {},
   "outputs": [
    {
     "name": "stdout",
     "output_type": "stream",
     "text": [
      "Shape is : []\n"
     ]
    }
   ],
   "source": [
    "# getting shape of tensor\n",
    "print('Shape is :', sess.run(tf.shape(zeroD)))"
   ]
  },
  {
   "cell_type": "code",
   "execution_count": 42,
   "metadata": {},
   "outputs": [
    {
     "name": "stdout",
     "output_type": "stream",
     "text": [
      "Rank is : 1\n",
      "Shape is : [4]\n"
     ]
    }
   ],
   "source": [
    "# creating 1D array\n",
    "oneD = np.array([5.2, 4.3, 9.0, 6.4], dtype=np.float32)\n",
    "\n",
    "# getting rank of tensor\n",
    "print('Rank is :', sess.run(tf.rank(oneD)))\n",
    "\n",
    "# getting shape of tensor\n",
    "print('Shape is :', sess.run(tf.shape(oneD)))"
   ]
  },
  {
   "cell_type": "code",
   "execution_count": 44,
   "metadata": {},
   "outputs": [],
   "source": [
    "# simple math with placeholders in tensorflow\n",
    "x = tf.placeholder(tf.int32, shape=[3], name='x_placeholder')\n",
    "y = tf.placeholder(tf.int32, shape=[3], name='y_placeholder')\n",
    "\n",
    "# applying reduce_sum on x\n",
    "sum_x = tf.reduce_sum(x, name='sum_x')\n",
    "\n",
    "# applying reduce_prod on y\n",
    "prod_y = tf.reduce_prod(y, name='prod_y')\n",
    "\n",
    "# applying div operation\n",
    "div = tf.div(sum_x, prod_y, name='div')\n",
    "\n",
    "# applying mean operation\n",
    "mean = tf.reduce_mean([sum_x, prod_y], name='mean')"
   ]
  },
  {
   "cell_type": "code",
   "execution_count": 45,
   "metadata": {},
   "outputs": [
    {
     "name": "stdout",
     "output_type": "stream",
     "text": [
      "x is : [100 200 300]\n",
      "y is : [1 2 3]\n",
      "Sum is : 600\n",
      "Product is : 6\n"
     ]
    }
   ],
   "source": [
    "# running sessions and feeding data usinf feed_dict\n",
    "print('x is :', sess.run(x, feed_dict={x:[100, 200, 300]}))\n",
    "print('y is :', sess.run(y, feed_dict={y:[1, 2, 3]}))\n",
    "print('Sum is :', sess.run(sum_x, feed_dict={x:[100, 200, 300]}))\n",
    "print('Product is :', sess.run(prod_y, feed_dict={y:[1, 2, 3]}))"
   ]
  },
  {
   "cell_type": "code",
   "execution_count": 46,
   "metadata": {},
   "outputs": [
    {
     "name": "stdout",
     "output_type": "stream",
     "text": [
      "Division is : 100\n",
      "Mean is : 6000\n"
     ]
    }
   ],
   "source": [
    "# finding div and mean\n",
    "print('Division is :', sess.run(div, feed_dict={x:[100, 200, 300], y:[1, 2, 3]}))\n",
    "print('Mean is :', sess.run(mean, feed_dict={x:[1000, 2000, 3000], y:[10, 20, 30]}))"
   ]
  },
  {
   "cell_type": "code",
   "execution_count": 47,
   "metadata": {},
   "outputs": [],
   "source": [
    "# closing session\n",
    "sess.close()"
   ]
  },
  {
   "cell_type": "code",
   "execution_count": 48,
   "metadata": {},
   "outputs": [],
   "source": [
    "# solving y = Wx + b\n",
    "\n",
    "# creating constant\n",
    "W = tf.constant([10, 100], name='const_W')\n",
    "\n",
    "# creating placeholders\n",
    "x = tf.placeholder(tf.int32, name='x')\n",
    "b = tf.placeholder(tf.int32, name='y')\n",
    "\n",
    "# finding out Wx\n",
    "Wx = tf.multiply(W, x, name='Wx')\n",
    "\n",
    "# finding y\n",
    "y = tf.add(Wx, b, name='y')"
   ]
  },
  {
   "cell_type": "code",
   "execution_count": 49,
   "metadata": {},
   "outputs": [
    {
     "name": "stdout",
     "output_type": "stream",
     "text": [
      "Wx is : [  30 3300]\n",
      "y is : [  57 5009]\n",
      "Wx and y is : [array([  50, 5000], dtype=int32), array([  57, 5009], dtype=int32)]\n"
     ]
    }
   ],
   "source": [
    "# printing value for y\n",
    "with tf.Session() as sess:\n",
    "    print('Wx is :', sess.run(Wx, feed_dict={x:[3, 33]}))\n",
    "    print('y is :', sess.run(fetches=y, feed_dict={x:[5, 50], b:[7, 9]}))\n",
    "    \n",
    "    # printing both in one session using fetches\n",
    "    print('Wx and y is :', sess.run(fetches=[Wx,y], feed_dict={x:[5, 50], b:[7, 9]}))\n",
    "# fetches holds the nodes you want to compute fetches=[x, y] etc."
   ]
  },
  {
   "cell_type": "code",
   "execution_count": 50,
   "metadata": {},
   "outputs": [],
   "source": [
    "# variables in tensorflow to hold constantly changing value\n",
    "# variables are mutable changes when graph changes\n",
    "# calculating Wx + b, here W and b are variables whereas x is placeholder\n",
    "W = tf.Variable([2.5, 4.0], tf.float32, name='W')\n",
    "x = tf.placeholder(tf.float32, name='x')\n",
    "b = tf.Variable([5.0, 10.0], tf.float32, name='b')\n",
    "\n",
    "# computing y\n",
    "y = W*x + b"
   ]
  },
  {
   "cell_type": "code",
   "execution_count": 55,
   "metadata": {},
   "outputs": [],
   "source": [
    "# initializing all the defined variables\n",
    "init = tf.global_variables_initializer()\n",
    "\n",
    "# for initializing particular variable\n",
    "# init = tf.variables_initializer([W])"
   ]
  },
  {
   "cell_type": "code",
   "execution_count": 54,
   "metadata": {},
   "outputs": [
    {
     "name": "stdout",
     "output_type": "stream",
     "text": [
      "y is : [ 17.5 210. ]\n"
     ]
    }
   ],
   "source": [
    "# creating session\n",
    "with tf.Session() as sess:\n",
    "    sess.run(init)\n",
    "    print('y is :', sess.run(fetches=y, feed_dict={x:[5, 50]}))"
   ]
  },
  {
   "cell_type": "code",
   "execution_count": 57,
   "metadata": {
    "scrolled": true
   },
   "outputs": [
    {
     "name": "stdout",
     "output_type": "stream",
     "text": [
      "Updated number is : 2\n",
      "Increment multiplier : 2\n",
      "\n",
      "Updated number is : 4\n",
      "Increment multiplier : 3\n",
      "\n",
      "Updated number is : 12\n",
      "Increment multiplier : 4\n",
      "\n",
      "Updated number is : 48\n",
      "Increment multiplier : 5\n",
      "\n",
      "Updated number is : 240\n",
      "Increment multiplier : 6\n",
      "\n",
      "Updated number is : 1440\n",
      "Increment multiplier : 7\n",
      "\n",
      "Updated number is : 10080\n",
      "Increment multiplier : 8\n",
      "\n",
      "Updated number is : 80640\n",
      "Increment multiplier : 9\n",
      "\n",
      "Updated number is : 725760\n",
      "Increment multiplier : 10\n",
      "\n",
      "Updated number is : 7257600\n",
      "Increment multiplier : 11\n",
      "\n"
     ]
    }
   ],
   "source": [
    "# practical implementation \n",
    "number = tf.Variable(2, tf.float32, name='number')\n",
    "multiplier = tf.Variable(1, tf.float32, name='multiplier')\n",
    "\n",
    "# initializing varibales\n",
    "init = tf.variables_initializer([number, multiplier])\n",
    "\n",
    "# assigning variable\n",
    "result = number.assign(tf.multiply(number, multiplier))\n",
    "\n",
    "# creating session and updating number\n",
    "with tf.Session() as sess:\n",
    "    sess.run(init)\n",
    "    \n",
    "    for i in range(10):\n",
    "        print('Updated number is :', sess.run(result))\n",
    "        print('Increment multiplier :', sess.run(multiplier.assign_add(1)))\n",
    "        print()"
   ]
  },
  {
   "cell_type": "code",
   "execution_count": 61,
   "metadata": {},
   "outputs": [
    {
     "name": "stdout",
     "output_type": "stream",
     "text": [
      "y is : [ 53 704]\n"
     ]
    }
   ],
   "source": [
    "# creating own graph of computation not using default graph\n",
    "user_graph = tf.Graph()\n",
    "\n",
    "# using this as default graph\n",
    "with user_graph.as_default():\n",
    "    with tf.Session() as sess:\n",
    "        # compute y = Ax = b\n",
    "        A = tf.constant([5,7], tf.int32, name='A')\n",
    "        x = tf.placeholder(tf.int32, name='x')\n",
    "        b = tf.constant([3, 4], tf.int32, name='b')\n",
    "        # computing\n",
    "        y = A * x + b\n",
    "        # running session\n",
    "        print('y is :', sess.run(y, feed_dict={x:[10, 100]}))\n",
    "        # asserting graph of y as user created graph\n",
    "        assert y.graph is user_graph"
   ]
  },
  {
   "cell_type": "code",
   "execution_count": 63,
   "metadata": {},
   "outputs": [],
   "source": [
    "# named_scope for better debugging of node in tensorboard\n",
    "# logical block which contains process like equation etc\n",
    "# Equation_1 = Ax^2 + Bx + C\n",
    "# Equation_2 = Ax^2 + Bx^2\n",
    "\n",
    "# defining constants\n",
    "A = tf.constant([4], tf.int32, name='A')\n",
    "B = tf.constant([5], tf.int32, name='B')\n",
    "C = tf.constant([6], tf.int32, name='C')\n",
    "\n",
    "# defining placeholder\n",
    "x = tf.placeholder(tf.int32, name='x')\n",
    "\n",
    "# Equation_1 = Ax^2 + Bx + C using name_scope\n",
    "with tf.name_scope('Equation_1'):\n",
    "    Ax2 = tf.multiply(A, tf.pow(x, 2), name='Ax2')\n",
    "    Bx = tf.multiply(B, x, name='Bx')\n",
    "    y1 = tf.add_n([Ax2, Bx, C], name='y1')\n",
    "    \n",
    "# Equation_2 = Ax^2 + Bx^2 using name_scope\n",
    "with tf.name_scope('Equation_2'):\n",
    "    Ax2 = tf.multiply(A, pow(x, 2), name='Ax2')\n",
    "    Bx2 = tf.multiply(B, pow(x, 2), name='Bx2')\n",
    "    y2 = tf.add_n([Ax2, Bx2], name='y2')\n",
    "    \n",
    "# Adding both equation\n",
    "with tf.name_scope('Final_sum'):\n",
    "    y = y1 + y2"
   ]
  },
  {
   "cell_type": "code",
   "execution_count": 64,
   "metadata": {},
   "outputs": [
    {
     "name": "stdout",
     "output_type": "stream",
     "text": [
      "y is : [1356]\n"
     ]
    }
   ],
   "source": [
    "# creating session \n",
    "with tf.Session() as sess:\n",
    "    print('y is :', sess.run(y, feed_dict={x:[10]}))"
   ]
  },
  {
   "cell_type": "code",
   "execution_count": 79,
   "metadata": {},
   "outputs": [],
   "source": [
    "# create a writer session for saving graph"
   ]
  },
  {
   "cell_type": "code",
   "execution_count": 85,
   "metadata": {},
   "outputs": [
    {
     "name": "stdout",
     "output_type": "stream",
     "text": [
      "200\n"
     ]
    }
   ],
   "source": [
    "# creating interactive session\n",
    "tf.InteractiveSession()\n",
    "x = tf.constant(10, tf.int32, name='x')\n",
    "y = tf.constant(20, tf.int32, name='y')\n",
    "z = x * y\n",
    "# using eval() for computation\n",
    "print(z.eval())"
   ]
  },
  {
   "cell_type": "code",
   "execution_count": 1,
   "metadata": {},
   "outputs": [
    {
     "ename": "ModuleNotFoundError",
     "evalue": "No module named 'matplotlib'",
     "output_type": "error",
     "traceback": [
      "\u001b[0;31m---------------------------------------------------------------------------\u001b[0m",
      "\u001b[0;31mModuleNotFoundError\u001b[0m                       Traceback (most recent call last)",
      "\u001b[0;32m<ipython-input-1-35a4d71c0f12>\u001b[0m in \u001b[0;36m<module>\u001b[0;34m\u001b[0m\n\u001b[1;32m      1\u001b[0m \u001b[0;31m# working on images as tensor\u001b[0m\u001b[0;34m\u001b[0m\u001b[0;34m\u001b[0m\u001b[0;34m\u001b[0m\u001b[0m\n\u001b[1;32m      2\u001b[0m \u001b[0;31m# importing matplotlib\u001b[0m\u001b[0;34m\u001b[0m\u001b[0;34m\u001b[0m\u001b[0;34m\u001b[0m\u001b[0m\n\u001b[0;32m----> 3\u001b[0;31m \u001b[0;32mimport\u001b[0m \u001b[0mmatplotlib\u001b[0m\u001b[0;34m.\u001b[0m\u001b[0mimg\u001b[0m \u001b[0;32mas\u001b[0m \u001b[0mmp_img\u001b[0m\u001b[0;34m\u001b[0m\u001b[0;34m\u001b[0m\u001b[0m\n\u001b[0m\u001b[1;32m      4\u001b[0m \u001b[0;32mimport\u001b[0m \u001b[0mmatplotlib\u001b[0m\u001b[0;34m.\u001b[0m\u001b[0mpyplot\u001b[0m \u001b[0;32mas\u001b[0m \u001b[0mplot\u001b[0m\u001b[0;34m\u001b[0m\u001b[0;34m\u001b[0m\u001b[0m\n",
      "\u001b[0;31mModuleNotFoundError\u001b[0m: No module named 'matplotlib'"
     ]
    }
   ],
   "source": [
    "# working on images as tensor\n",
    "# importing matplotlib\n",
    "import matplotlib.img as mp_img\n",
    "import matplotlib.pyplot as plot"
   ]
  },
  {
   "cell_type": "code",
   "execution_count": null,
   "metadata": {},
   "outputs": [],
   "source": []
  },
  {
   "cell_type": "code",
   "execution_count": null,
   "metadata": {},
   "outputs": [],
   "source": []
  },
  {
   "cell_type": "code",
   "execution_count": null,
   "metadata": {},
   "outputs": [],
   "source": []
  },
  {
   "cell_type": "code",
   "execution_count": null,
   "metadata": {},
   "outputs": [],
   "source": []
  },
  {
   "cell_type": "markdown",
   "metadata": {},
   "source": [
    "## Building TF Model (digit recognization)"
   ]
  },
  {
   "cell_type": "markdown",
   "metadata": {},
   "source": [
    "### Steps :"
   ]
  },
  {
   "cell_type": "markdown",
   "metadata": {},
   "source": [
    "    1. input > weight > hidden layer1 (activation function)\n",
    "    2. weights > hidden layer2 (activation function)\n",
    "    3. weights > output layer\n",
    "    4. compare output to intended output > cost or loss function (cross entropy)\n",
    "    5. optimization funtion > minimize cost (AdamOptimizer, SGD, AdaGrad..)\n",
    "    6. this process is called feed forward neural network\n",
    "    7. backpropagation > balancing weights\n",
    "    8. feedforward + backprop = epoch > number of times until convergence"
   ]
  },
  {
   "cell_type": "code",
   "execution_count": null,
   "metadata": {},
   "outputs": [],
   "source": []
  },
  {
   "cell_type": "code",
   "execution_count": null,
   "metadata": {},
   "outputs": [],
   "source": []
  }
 ],
 "metadata": {
  "kernelspec": {
   "display_name": "Python 3",
   "language": "python",
   "name": "python3"
  },
  "language_info": {
   "codemirror_mode": {
    "name": "ipython",
    "version": 3
   },
   "file_extension": ".py",
   "mimetype": "text/x-python",
   "name": "python",
   "nbconvert_exporter": "python",
   "pygments_lexer": "ipython3",
   "version": "3.7.3"
  }
 },
 "nbformat": 4,
 "nbformat_minor": 2
}
